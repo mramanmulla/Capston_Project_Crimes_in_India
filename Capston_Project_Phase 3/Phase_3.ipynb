{
  "nbformat": 4,
  "nbformat_minor": 0,
  "metadata": {
    "colab": {
      "provenance": []
    },
    "kernelspec": {
      "name": "python3",
      "display_name": "Python 3"
    },
    "language_info": {
      "name": "python"
    }
  },
  "cells": [
    {
      "cell_type": "code",
      "execution_count": 1,
      "metadata": {
        "id": "OPJwpB_jKG7p"
      },
      "outputs": [],
      "source": [
        "import sqlite3\n",
        "import csv\n",
        "import pandas as pd"
      ]
    },
    {
      "cell_type": "code",
      "source": [
        "db = sqlite3.connect(\"DT_CapstonProject\")"
      ],
      "metadata": {
        "id": "M65ggVTSKZ3J"
      },
      "execution_count": 2,
      "outputs": []
    },
    {
      "cell_type": "code",
      "source": [
        "cursor=db.cursor()"
      ],
      "metadata": {
        "id": "x5eIdDufKk20"
      },
      "execution_count": 3,
      "outputs": []
    },
    {
      "cell_type": "code",
      "source": [
        "cursor.execute(\"\"\"\n",
        "        CREATE TABLE crimes_against_women (\n",
        "        State_UT TEXT,\n",
        "        DISTRICT TEXT,\n",
        "        Year INT,\n",
        "        Rape INT,\n",
        "        Kidnapping_and_Abduction INT,\n",
        "        Dowry_Deaths INT,\n",
        "        Assault_on_women_with_intent_to_outrage_her_modesty INT,\n",
        "        Insult_to_modesty_of_Women INT,\n",
        "        Cruelty_by_Husband_or_his_Relatives INT,\n",
        "        Importation_of_Girls INT\n",
        "    )\n",
        "\"\"\")\n",
        "db.commit()"
      ],
      "metadata": {
        "id": "xrBgxHQmKrKx"
      },
      "execution_count": 4,
      "outputs": []
    },
    {
      "cell_type": "markdown",
      "source": [
        "### Table created with Name 'crimes_against_women_india' which making connection with database DT_CapstonProject. Now will move towards importing data from CSV file.\n",
        "\n",
        "## **3.1 Insert records from 42_District_wise_crimes_committed_against_women_2001_2012.csv into a table.**"
      ],
      "metadata": {
        "id": "sZENrBWNMGXI"
      }
    },
    {
      "cell_type": "code",
      "source": [
        "# building function to import data from above mentioned file\n",
        "\n",
        "with open('/content/42_District_wise_crimes_committed_against_women_2001_2012.csv','r') as file:\n",
        "    no_records=0\n",
        "    for row in file:\n",
        "        cursor.execute(\"INSERT INTO crimes_against_women VALUES(?,?,?,?,?,?,?,?,?,?)\",row.split(\",\"))\n",
        "        db.commit()\n",
        "        no_records += 1"
      ],
      "metadata": {
        "id": "0GiHIykVMgi7"
      },
      "execution_count": 6,
      "outputs": []
    },
    {
      "cell_type": "markdown",
      "source": [
        "#### **In the dataset, a 'TOTAL' row is present for each STATE/UT and DISTRICT. This row aggregates values across all other variables, potentially influencing query outcomes due to its cumulative nature. To ensure simplicity and accuracy in analysis, it is advisable to remove rows containing 'TOTAL' entries.**\n"
      ],
      "metadata": {
        "id": "qDN42bukPm5E"
      }
    },
    {
      "cell_type": "code",
      "source": [
        "# Deleting TOTAL row\n",
        "cursor.execute('''DELETE FROM crimes_against_women WHERE District LIKE '%TOTAL%';''')"
      ],
      "metadata": {
        "id": "Pk6aRF3lL1Zs",
        "colab": {
          "base_uri": "https://localhost:8080/",
          "height": 0
        },
        "outputId": "ca6e884d-c5d9-46eb-8ee5-9ff55f1523e5"
      },
      "execution_count": 7,
      "outputs": [
        {
          "output_type": "execute_result",
          "data": {
            "text/plain": [
              "<sqlite3.Cursor at 0x7ef6d3be53c0>"
            ]
          },
          "metadata": {},
          "execution_count": 7
        }
      ]
    },
    {
      "cell_type": "code",
      "source": [
        "db.commit()"
      ],
      "metadata": {
        "id": "LR3PcvYLQcM-"
      },
      "execution_count": 16,
      "outputs": []
    },
    {
      "cell_type": "markdown",
      "source": [
        "### **3.2 Write SQL query to find the highest number of rapes & Kidnappings that happened in which state, district, and year.**"
      ],
      "metadata": {
        "id": "LIv48FmRQg2_"
      }
    },
    {
      "cell_type": "code",
      "source": [
        "Query_3_2=cursor.execute('''SELECT\n",
        "                      state_UT, DISTRICT ,Year ,MAX(Rape), MAX(Kidnapping_and_Abduction) FROM crimes_against_women\n",
        "                      WHERE NOT DISTRICT='TOTAL' AND NOT DISTRICT='DELHI UT TOTAL'\n",
        "                      GROUP BY Year\n",
        "                      ORDER BY Kidnapping_and_Abduction DESC''')\n",
        "\n",
        "\n",
        "for row in Query_3_2:\n",
        "    print(row)"
      ],
      "metadata": {
        "colab": {
          "base_uri": "https://localhost:8080/",
          "height": 0
        },
        "id": "yydiJIhsQkbk",
        "outputId": "06d4439e-b490-4a51-b4cb-cac37a6d4381"
      },
      "execution_count": 8,
      "outputs": [
        {
          "output_type": "stream",
          "name": "stdout",
          "text": [
            "('\"STATE/UT\"', '\"DISTRICT\"', '\"Year\"', '\"Rape\"', '\"Kidnapping and Abduction\"')\n",
            "('\"WEST BENGAL\"', '\"MURSHIDABAD\"', 2011, 433, 492)\n",
            "('\"WEST BENGAL\"', '\"MURSHIDABAD\"', 2012, 257, 464)\n",
            "('\"WEST BENGAL\"', '\"MURSHIDABAD\"', 2010, 526, 441)\n",
            "('\"DELHI\"', '\"NORTH-WEST\"', 2005, 236, 349)\n",
            "('\"WEST BENGAL\"', '\"MURSHIDABAD\"', 2009, 568, 342)\n",
            "('\"UTTAR PRADESH\"', '\"LUCKNOW\"', 2008, 334, 331)\n",
            "('\"DELHI\"', '\"NORTH WEST\"', 2001, 145, 298)\n",
            "('\"DELHI\"', '\"NORTH-WEST\"', 2006, 224, 287)\n",
            "('\"DELHI\"', '\"NORTH WEST\"', 2002, 159, 259)\n",
            "('\"DELHI\"', '\"OUTER\"', 2007, 369, 237)\n",
            "('\"ASSAM\"', '\"GUWAHATI CITY\"', 2004, 197, 228)\n",
            "('\"DELHI\"', '\"NORTH WEST\"', 2003, 137, 191)\n"
          ]
        }
      ]
    },
    {
      "cell_type": "markdown",
      "source": [
        "- The district **MURSHIDABAD** in the state of **WEST BENGAL** consistently appears with high numbers of reported incidents for both rape and kidnapping and abduction, especially in the years 2011, 2010, and 2009.\n",
        "- The state DELHI also shows notable numbers, particularly in the districts NORTH WEST, NORTH-WEST, and OUTER in various years. The years 2005, 2006, and 2007 seem to have higher reported incidents in the respective districts."
      ],
      "metadata": {
        "id": "tX9fgSQLaHOw"
      }
    },
    {
      "cell_type": "markdown",
      "source": [
        "### **3.3 Write SQL query to find All the lowest number of rapes & Kidnappings that happened in which state, District, and year**"
      ],
      "metadata": {
        "id": "69vi_PAHalTX"
      }
    },
    {
      "cell_type": "code",
      "source": [
        "Query_3_3=cursor.execute('''SELECT  state_UT, DISTRICT ,Year ,MIN(Rape), MIN(Kidnapping_and_Abduction) FROM crimes_against_women\n",
        "                            WHERE NOT DISTRICT='TOTAL' AND NOT DISTRICT='DELHI UT TOTAL'\n",
        "                            GROUP BY state_UT\n",
        "                            ORDER BY Kidnapping_and_Abduction''')\n",
        "\n",
        "\n",
        "\n",
        "for row in Query_3_3:\n",
        "    print(row)"
      ],
      "metadata": {
        "colab": {
          "base_uri": "https://localhost:8080/",
          "height": 0
        },
        "id": "op--F502aiGI",
        "outputId": "d52b26c1-a4c6-434a-a28c-50984b3a6971"
      },
      "execution_count": 14,
      "outputs": [
        {
          "output_type": "stream",
          "name": "stdout",
          "text": [
            "('\"A & N ISLANDS\"', '\"NICOBAR\"', 2001, 0, 0)\n",
            "('\"ANDHRA PRADESH\"', '\"GUNTAKAL RLY.\"', 2001, 0, 0)\n",
            "('\"ARUNACHAL PRADESH\"', '\"TAWANG\"', 2001, 0, 0)\n",
            "('\"ASSAM\"', '\"C.I.D.\"', 2001, 0, 0)\n",
            "('\"BIHAR\"', '\"ARWAL\"', 2001, 0, 0)\n",
            "('\"CHHATTISGARH\"', '\"BIZAPUR\"', 2001, 0, 0)\n",
            "('\"DAMAN & DIU\"', '\"DIU\"', 2001, 0, 0)\n",
            "('\"DELHI\"', '\"S.T.F.\"', 2001, 0, 0)\n",
            "('\"GUJARAT\"', '\"W.RLY\"', 2001, 0, 0)\n",
            "('\"HARYANA\"', '\"GRP\"', 2002, 0, 0)\n",
            "('\"HIMACHAL PRADESH\"', '\"G.R.P.\"', 2001, 0, 0)\n",
            "('\"JAMMU & KASHMIR\"', '\"CRIME JAMMU\"', 2001, 0, 0)\n",
            "('\"JHARKHAND\"', '\"DEOGHAR\"', 2001, 0, 0)\n",
            "('\"KARNATAKA\"', '\"CHITRADURGA\"', 2001, 0, 0)\n",
            "('\"KERALA\"', '\"CBCID\"', 2001, 0, 0)\n",
            "('\"LAKSHADWEEP\"', '\"LAKSHADWEEP\"', 2001, 0, 0)\n",
            "('\"MADHYA PRADESH\"', '\"INDORE RLY.\"', 2001, 0, 0)\n",
            "('\"MAHARASHTRA\"', '\"MUMBAI RLY.\"', 2001, 0, 0)\n",
            "('\"MANIPUR\"', '\"CHURACHANDPUR\"', 2001, 0, 0)\n",
            "('\"MEGHALAYA\"', '\"GARO HILLS EAST\"', 2001, 0, 0)\n",
            "('\"MIZORAM\"', '\"AIZAWL\"', 2001, 0, 0)\n",
            "('\"NAGALAND\"', '\"KIPHIRE\"', 2001, 0, 0)\n",
            "('\"ODISHA\"', '\"RAYAGADA\"', 2001, 0, 0)\n",
            "('\"PUDUCHERRY\"', '\"KARAIKAL\"', 2011, 0, 0)\n",
            "('\"PUNJAB\"', '\"G.R.P\"', 2001, 0, 0)\n",
            "('\"RAJASTHAN\"', '\"G.R.P.\"', 2003, 0, 0)\n",
            "('\"SIKKIM\"', '\"NORTH\"', 2001, 0, 0)\n",
            "('\"TAMIL NADU\"', '\"CHENNAI\"', 2001, 0, 0)\n",
            "('\"TRIPURA\"', '\"DHALAI\"', 2001, 0, 0)\n",
            "('\"UTTAR PRADESH\"', '\"MAHARAJGANJ\"', 2002, 0, 0)\n",
            "('\"UTTARAKHAND\"', '\"NAINITAL\"', 2001, 0, 0)\n",
            "('\"WEST BENGAL\"', '\"ASANSOL\"', 2001, 0, 0)\n",
            "('\"GOA\"', '\"NORTH GOA\"', 2001, 3, 1)\n",
            "('\"D & N HAVELI\"', '\"D and N HAVELI\"', 2001, 1, 2)\n",
            "('\"CHANDIGARH\"', '\"CHANDIGARH\"', 2003, 18, 28)\n",
            "('\"STATE/UT\"', '\"DISTRICT\"', '\"Year\"', '\"Rape\"', '\"Kidnapping and Abduction\"')\n"
          ]
        }
      ]
    },
    {
      "cell_type": "markdown",
      "source": [
        "- **All the above result showing Minimum of Rape And KIdnapping in each state And year.**"
      ],
      "metadata": {
        "id": "PGAsc1heczgE"
      }
    },
    {
      "cell_type": "markdown",
      "source": [
        "## **3.4 Insert records from 02_District_wise_crimes_committed_against_ST_2001_2012.csv into a new table**"
      ],
      "metadata": {
        "id": "Md8WMJU4c-4S"
      }
    },
    {
      "cell_type": "code",
      "source": [
        "cursor.execute('''CREATE TABLE crime_against_st\n",
        "                (state_UT TEXT,\n",
        "                 DISTRICT TEXT,\n",
        "                 Year INT,\n",
        "                 Murder INT,\n",
        "                 Rape INT,\n",
        "                 Kidanpping INT,\n",
        "                 Dacoity INT,\n",
        "                 Robbery INT,\n",
        "                 Arson  INT,\n",
        "                 Hurt INT,\n",
        "                 PCR INT,\n",
        "                 POA INT,\n",
        "                 Other_Crimes INT)''')\n",
        "\n",
        "db.commit()"
      ],
      "metadata": {
        "id": "nWzx2fwQc5XA"
      },
      "execution_count": 15,
      "outputs": []
    },
    {
      "cell_type": "code",
      "source": [
        "with open('/content/02_District_wise_crimes_committed_against_ST_2001_2012.csv','r') as file :\n",
        "    no_records=0\n",
        "    for row in file:\n",
        "        cursor.execute(\"INSERT INTO crime_against_st VALUES(?,?,?,?,?,?,?,?,?,?,?,?,?)\",row.split(\",\"))\n",
        "        db.commit()\n",
        "        no_records += 1"
      ],
      "metadata": {
        "id": "qIduXrurdYeB"
      },
      "execution_count": 16,
      "outputs": []
    },
    {
      "cell_type": "code",
      "source": [
        "# Deleting 'TOTAL' row\n",
        "cursor.execute('''DELETE FROM crime_against_st WHERE District LIKE '%TOTAL%';''')"
      ],
      "metadata": {
        "colab": {
          "base_uri": "https://localhost:8080/",
          "height": 0
        },
        "id": "VJMpTXoHdrmk",
        "outputId": "a887ac49-c8aa-4983-8639-f822031b6c25"
      },
      "execution_count": 17,
      "outputs": [
        {
          "output_type": "execute_result",
          "data": {
            "text/plain": [
              "<sqlite3.Cursor at 0x7ef6d3be53c0>"
            ]
          },
          "metadata": {},
          "execution_count": 17
        }
      ]
    },
    {
      "cell_type": "markdown",
      "source": [
        "### **3.5 Write SQL query to find the highest number of dacoity/robbery in which district.**"
      ],
      "metadata": {
        "id": "_Yua63ged7HJ"
      }
    },
    {
      "cell_type": "code",
      "source": [
        "Query_3_5 = cursor.execute('''SELECT State_UT,Year, District, SUM(Dacoity) AS Total_Dacoity\n",
        "                            FROM crime_against_st\n",
        "                            GROUP BY State_UT, District\n",
        "                            ORDER BY Total_Dacoity DESC\n",
        "                            LIMIT 1;''')\n",
        "\n",
        "for row in Query_3_5:\n",
        "    print(row)"
      ],
      "metadata": {
        "colab": {
          "base_uri": "https://localhost:8080/",
          "height": 0
        },
        "id": "QcbanmKnd9JQ",
        "outputId": "40094c82-5925-4e52-b618-af2ff311dfd1"
      },
      "execution_count": 20,
      "outputs": [
        {
          "output_type": "stream",
          "name": "stdout",
          "text": [
            "('\"GUJARAT\"', 2001, '\"DAHOD\"', 81)\n"
          ]
        }
      ]
    },
    {
      "cell_type": "markdown",
      "source": [
        "- In 2001, the district of Dahod in the state of Gujarat reported the highest incidence of dacoity/robbery, with a total of 81 cases.\n",
        "- Possible reasons for such number of Dacoity/Robbery can be,\n",
        "\n",
        "       - Economic Disparities\n",
        "       - Unemployment\n",
        "       - Drug and Substance Abuse\n",
        "       - Insufficient infrastructure and development"
      ],
      "metadata": {
        "id": "j7GYDWa1eqyC"
      }
    },
    {
      "cell_type": "markdown",
      "source": [
        "### **3.6 Write SQL query to find in which districts(All) the lowest number of murders happened**"
      ],
      "metadata": {
        "id": "HVz6tX2rfVTW"
      }
    },
    {
      "cell_type": "code",
      "source": [
        "Query_3_6=cursor.execute('''SELECT state_UT,DISTRICT, Murder FROM crime_against_st\n",
        "                          WHERE Murder=(SELECT MIN(Murder) FROM crime_against_st)\n",
        "                          GROUP BY state_UT''')\n",
        "\n",
        "for row in Query_3_6:\n",
        "    print(row)"
      ],
      "metadata": {
        "colab": {
          "base_uri": "https://localhost:8080/",
          "height": 0
        },
        "id": "pTVpZF-QfXNd",
        "outputId": "75530d42-ab3b-4814-e847-fb4e730e17ea"
      },
      "execution_count": 25,
      "outputs": [
        {
          "output_type": "stream",
          "name": "stdout",
          "text": [
            "('\"A & N ISLANDS\"', '\"ANDAMAN\"', 0)\n",
            "('\"ANDHRA PRADESH\"', '\"ADILABAD\"', 0)\n",
            "('\"ARUNACHAL PRADESH\"', '\"CHANGLANG\"', 0)\n",
            "('\"ASSAM\"', '\"BARPETA\"', 0)\n",
            "('\"BIHAR\"', '\"ARWAL\"', 0)\n",
            "('\"CHANDIGARH\"', '\"CHANDIGARH\"', 0)\n",
            "('\"CHHATTISGARH\"', '\"BALRAMPUR\"', 0)\n",
            "('\"D & N HAVELI\"', '\"D and N HAVELI\"', 0)\n",
            "('\"DAMAN & DIU\"', '\"DAMAN\"', 0)\n",
            "('\"DELHI\"', '\"CENTRAL\"', 0)\n",
            "('\"GOA\"', '\"NORTH GOA\"', 0)\n",
            "('\"GUJARAT\"', '\"AHMEDABAD COMMR.\"', 0)\n",
            "('\"HARYANA\"', '\"AMBALA\"', 0)\n",
            "('\"HIMACHAL PRADESH\"', '\"BILASPUR\"', 0)\n",
            "('\"JAMMU & KASHMIR\"', '\"ANANTNAG\"', 0)\n",
            "('\"JHARKHAND\"', '\"BOKARO\"', 0)\n",
            "('\"KARNATAKA\"', '\"BAGALKOT\"', 0)\n",
            "('\"KERALA\"', '\"ALAPUZHA\"', 0)\n",
            "('\"LAKSHADWEEP\"', '\"LAKSHADWEEP\"', 0)\n",
            "('\"MADHYA PRADESH\"', '\"BETUL\"', 0)\n",
            "('\"MAHARASHTRA\"', '\"AKOLA\"', 0)\n",
            "('\"MANIPUR\"', '\"BISHNUPUR\"', 0)\n",
            "('\"MEGHALAYA\"', '\"GARO HILLS EAST\"', 0)\n",
            "('\"MIZORAM\"', '\"AIZAWL\"', 0)\n",
            "('\"NAGALAND\"', '\"DIMAPUR\"', 0)\n",
            "('\"ODISHA\"', '\"ANGUL\"', 0)\n",
            "('\"PUDUCHERRY\"', '\"PONDICHERRY\"', 0)\n",
            "('\"PUNJAB\"', '\"AMRITSAR\"', 0)\n",
            "('\"RAJASTHAN\"', '\"AJMER\"', 0)\n",
            "('\"SIKKIM\"', '\"NORTH\"', 0)\n",
            "('\"TAMIL NADU\"', '\"ARIYALUR\"', 0)\n",
            "('\"TRIPURA\"', '\"DHALAI\"', 0)\n",
            "('\"UTTAR PRADESH\"', '\"AGRA\"', 0)\n",
            "('\"UTTARAKHAND\"', '\"ALMORA\"', 0)\n",
            "('\"WEST BENGAL\"', '\"24 PARGANAS NORTH\"', 0)\n"
          ]
        }
      ]
    },
    {
      "cell_type": "markdown",
      "source": [
        "- **The Above result of query shows the minimum number of Murdrs happened in eah Ditsrict**"
      ],
      "metadata": {
        "id": "nk6Y7FuxgGBz"
      }
    },
    {
      "cell_type": "markdown",
      "source": [
        "### **3.7 Write SQL query to find the number of murders in ascending order in district and yearwise.**"
      ],
      "metadata": {
        "id": "ov3BLgrugKqp"
      }
    },
    {
      "cell_type": "code",
      "source": [
        "Query_3_7=cursor.execute('''SELECT  state_UT, DISTRICT, Year,Murder FROM crime_against_st\n",
        "                            GROUP BY state_UT\n",
        "                            ORDER BY Murder''')\n",
        "\n",
        "for row in Query_3_7:\n",
        "    print(row)"
      ],
      "metadata": {
        "colab": {
          "base_uri": "https://localhost:8080/",
          "height": 0
        },
        "id": "cgqY8-1OgMzU",
        "outputId": "6a36e3b5-52c9-47f3-acab-c0bf3db4de8c"
      },
      "execution_count": 26,
      "outputs": [
        {
          "output_type": "stream",
          "name": "stdout",
          "text": [
            "('\"A & N ISLANDS\"', '\"ANDAMAN\"', 2001, 0)\n",
            "('\"ANDHRA PRADESH\"', '\"ADILABAD\"', 2001, 0)\n",
            "('\"ARUNACHAL PRADESH\"', '\"CHANGLANG\"', 2001, 0)\n",
            "('\"ASSAM\"', '\"BARPETA\"', 2001, 0)\n",
            "('\"CHANDIGARH\"', '\"CHANDIGARH\"', 2001, 0)\n",
            "('\"CHHATTISGARH\"', '\"BALRAMPUR\"', 2001, 0)\n",
            "('\"D & N HAVELI\"', '\"D and N HAVELI\"', 2001, 0)\n",
            "('\"DAMAN & DIU\"', '\"DAMAN\"', 2001, 0)\n",
            "('\"DELHI\"', '\"CENTRAL\"', 2001, 0)\n",
            "('\"GOA\"', '\"NORTH GOA\"', 2001, 0)\n",
            "('\"GUJARAT\"', '\"AHMEDABAD COMMR.\"', 2001, 0)\n",
            "('\"HARYANA\"', '\"AMBALA\"', 2001, 0)\n",
            "('\"HIMACHAL PRADESH\"', '\"BILASPUR\"', 2001, 0)\n",
            "('\"JAMMU & KASHMIR\"', '\"ANANTNAG\"', 2001, 0)\n",
            "('\"JHARKHAND\"', '\"BOKARO\"', 2001, 0)\n",
            "('\"KARNATAKA\"', '\"BAGALKOT\"', 2001, 0)\n",
            "('\"KERALA\"', '\"ALAPUZHA\"', 2001, 0)\n",
            "('\"LAKSHADWEEP\"', '\"LAKSHADWEEP\"', 2001, 0)\n",
            "('\"MANIPUR\"', '\"BISHNUPUR\"', 2001, 0)\n",
            "('\"MEGHALAYA\"', '\"GARO HILLS EAST\"', 2001, 0)\n",
            "('\"MIZORAM\"', '\"AIZAWL\"', 2001, 0)\n",
            "('\"NAGALAND\"', '\"DIMAPUR\"', 2001, 0)\n",
            "('\"ODISHA\"', '\"ANGUL\"', 2001, 0)\n",
            "('\"PUDUCHERRY\"', '\"PONDICHERRY\"', 2001, 0)\n",
            "('\"PUNJAB\"', '\"AMRITSAR\"', 2001, 0)\n",
            "('\"RAJASTHAN\"', '\"AJMER\"', 2001, 0)\n",
            "('\"TAMIL NADU\"', '\"ARIYALUR\"', 2001, 0)\n",
            "('\"TRIPURA\"', '\"DHALAI\"', 2001, 0)\n",
            "('\"UTTAR PRADESH\"', '\"AGRA\"', 2001, 0)\n",
            "('\"UTTARAKHAND\"', '\"ALMORA\"', 2001, 0)\n",
            "('\"WEST BENGAL\"', '\"24 PARGANAS NORTH\"', 2001, 0)\n",
            "('\"BIHAR\"', '\"ARARIA\"', 2001, 1)\n",
            "('\"MADHYA PRADESH\"', '\"BALAGHAT\"', 2001, 1)\n",
            "('\"MAHARASHTRA\"', '\"AHMEDNAGAR\"', 2001, 1)\n",
            "('\"SIKKIM\"', '\"EAST\"', 2001, 4)\n",
            "('\"STATE/UT\"', '\"DISTRICT\"', '\"Year\"', '\"Murder\"')\n"
          ]
        }
      ]
    },
    {
      "cell_type": "markdown",
      "source": [
        "- **District ,Year and Murders in Ascending orders**"
      ],
      "metadata": {
        "id": "_ZU4fTCbgkgD"
      }
    },
    {
      "cell_type": "markdown",
      "source": [
        "## **3.8.1Insert records of STATE/UT, DISTRICT, YEAR, MURDER, ATTEMPT TO MURDER, and RAPE columns only from 01_District_wise_crimes_committed_IPC_2001_2012.csv into a new table**"
      ],
      "metadata": {
        "id": "lUveN2Iigs5q"
      }
    },
    {
      "cell_type": "code",
      "source": [
        "cursor.execute ('''CREATE TABLE IPC_crime_committed\n",
        "                (STATE_UT TEXT,\n",
        "                 DISTRICT TEXT,\n",
        "                 YEAR INT,\n",
        "                 MURDER INT,\n",
        "                 ATTEMPT_to_MURDER INT,\n",
        "                 RAPE INT)''')"
      ],
      "metadata": {
        "colab": {
          "base_uri": "https://localhost:8080/",
          "height": 0
        },
        "id": "_rctApWHgj4L",
        "outputId": "0c4a220a-b580-4d2a-b25c-9635b97ededb"
      },
      "execution_count": 31,
      "outputs": [
        {
          "output_type": "execute_result",
          "data": {
            "text/plain": [
              "<sqlite3.Cursor at 0x7ef6d3be53c0>"
            ]
          },
          "metadata": {},
          "execution_count": 31
        }
      ]
    },
    {
      "cell_type": "code",
      "source": [
        "db.commit()"
      ],
      "metadata": {
        "id": "BO9rgONyhRhJ"
      },
      "execution_count": 32,
      "outputs": []
    },
    {
      "cell_type": "code",
      "source": [
        "with open('/content/01_District_wise_crimes_committed_IPC_2001_2012.csv', 'r') as file:\n",
        "    csv_reader = csv.DictReader(file)\n",
        "    for row in csv_reader:\n",
        "        # Insert specific columns into the table\n",
        "        cursor.execute('''INSERT INTO IPC_crime_committed (STATE_UT, DISTRICT, YEAR, MURDER,\n",
        "        ATTEMPT_to_MURDER, RAPE) VALUES (?, ?, ?, ?, ?, ?);''', (row['STATE/UT'], row['DISTRICT'], row['YEAR'], row['MURDER'],\n",
        "        row['ATTEMPT TO MURDER'], row['RAPE']))"
      ],
      "metadata": {
        "id": "T2iOH-02hV5T"
      },
      "execution_count": 34,
      "outputs": []
    },
    {
      "cell_type": "code",
      "source": [
        "# Deleting 'TOTAL' row\n",
        "cursor.execute('''DELETE FROM IPC_crime_committed WHERE District LIKE '%TOTAL%';''')"
      ],
      "metadata": {
        "colab": {
          "base_uri": "https://localhost:8080/",
          "height": 0
        },
        "id": "7JI8Pb7Liq0F",
        "outputId": "d8fe5b44-6b58-494b-a9d0-bbab3dd218c5"
      },
      "execution_count": 35,
      "outputs": [
        {
          "output_type": "execute_result",
          "data": {
            "text/plain": [
              "<sqlite3.Cursor at 0x7ef6d3be53c0>"
            ]
          },
          "metadata": {},
          "execution_count": 35
        }
      ]
    },
    {
      "cell_type": "markdown",
      "source": [
        "### **3.8.2 Write SQL query to find which District in each state/ut has the highest number of murders yearwise. Your output should show STATE/UT, YEAR, DISTRICT, and MURDERS.**"
      ],
      "metadata": {
        "id": "K-bEBwzdivhp"
      }
    },
    {
      "cell_type": "code",
      "source": [
        "Query_3_8_2 = cursor.execute('''SELECT  STATE_UT, Year,DISTRICT ,MAX(MURDER) FROM IPC_crime_committed\n",
        "                             WHERE NOT DISTRICT='TOTAL' AND NOT DISTRICT='DELHI UT TOTAL'\n",
        "                             GROUP BY STATE_UT\n",
        "                             ORDER BY MURDER DESC''')\n",
        "\n",
        "\n",
        "\n",
        "\n",
        "for row in Query_3_8_2:\n",
        "    print(row)"
      ],
      "metadata": {
        "colab": {
          "base_uri": "https://localhost:8080/",
          "height": 0
        },
        "id": "AHO1OuJZitkL",
        "outputId": "975dd4ab-09f9-4c26-e617-c9666bad11f9"
      },
      "execution_count": 36,
      "outputs": [
        {
          "output_type": "stream",
          "name": "stdout",
          "text": [
            "('BIHAR', 2004, 'PATNA', 542)\n",
            "('UTTAR PRADESH', 2001, 'MUZAFFARNAGAR', 324)\n",
            "('MAHARASHTRA', 2001, 'MUMBAI', 295)\n",
            "('JHARKHAND', 2002, 'RANCHI', 270)\n",
            "('WEST BENGAL', 2010, 'PASCHIM MIDNAPUR', 268)\n",
            "('KARNATAKA', 2010, 'BANGALORE COMMR.', 266)\n",
            "('GUJARAT', 2002, 'AHMEDABAD COMMR.', 222)\n",
            "('ANDHRA PRADESH', 2001, 'RANGA REDDY', 214)\n",
            "('TAMIL NADU', 2012, 'CHENNAI', 180)\n",
            "('JAMMU & KASHMIR', 2001, 'BARAMULLA', 144)\n",
            "('ASSAM', 2007, 'TINSUKIA', 143)\n",
            "('MADHYA PRADESH', 2004, 'JHABUA', 139)\n",
            "('CHHATTISGARH', 2006, 'BIZAPUR', 139)\n",
            "('TRIPURA', 2003, 'WEST', 136)\n",
            "('DELHI UT', 2002, 'NORTH WEST', 135)\n",
            "('ODISHA', 2009, 'KEONJHAR', 109)\n",
            "('RAJASTHAN', 2011, 'ALWAR', 104)\n",
            "('UTTARAKHAND', 2001, 'HARIDWAR', 94)\n",
            "('HARYANA', 2006, 'GURGAON', 93)\n",
            "('PUNJAB', 2010, 'CP LUDHIANA', 90)\n",
            "('NAGALAND', 2008, 'DIMAPUR', 64)\n",
            "('MANIPUR', 2007, 'IMPHAL WEST', 61)\n",
            "('KERALA', 2002, 'TRIVANDRUM', 58)\n",
            "('MEGHALAYA', 2003, 'JAINTIA HILLS', 52)\n",
            "('HIMACHAL PRADESH', 2003, 'KANGRA', 38)\n",
            "('GOA', 2009, 'NORTH GOA', 33)\n",
            "('PUDUCHERRY', 2011, 'PUDUCHERRY', 32)\n",
            "('CHANDIGARH', 2002, 'CHANDIGARH', 31)\n",
            "('MIZORAM', 2010, 'AIZAWL', 23)\n",
            "('ARUNACHAL PRADESH', 2007, 'LOHIT', 17)\n",
            "('A & N ISLANDS', 2003, 'ANDAMAN', 16)\n",
            "('D & N HAVELI', 2011, 'D and N HAVELI', 14)\n",
            "('SIKKIM', 2001, 'EAST', 13)\n",
            "('DAMAN & DIU', 2007, 'DAMAN', 12)\n",
            "('LAKSHADWEEP', 2001, 'LAKSHADWEEP', 1)\n"
          ]
        }
      ]
    },
    {
      "cell_type": "markdown",
      "source": [
        "**Below are the Top 10 state/ut has the highest number of murders yearwise,**\n",
        "\n",
        "- Bihar (2004, PATNA, 542): Patna in Bihar had the highest number of murders in 2004.\n",
        "\n",
        "- Uttar Pradesh (2001, MUZAFFARNAGAR, 324): Muzaffarnagar in Uttar Pradesh had the highest number of murders in 2001.\n",
        "\n",
        "- Maharashtra (2001, MUMBAI, 295): Mumbai in Maharashtra had the highest number of murders in 2001.\n",
        "\n",
        "- Jharkhand (2002, RANCHI, 270): Ranchi in Jharkhand had the highest number of murders in 2002.\n",
        "\n",
        "- West Bengal (2010, PASCHIM MIDNAPUR, 268): Paschim Midnapur in West Bengal had the highest number of murders in 2010.\n",
        "\n",
        "- Karnataka (2010, BANGALORE COMMR., 266): Bangalore Commissionerate in Karnataka had the highest number of murders in 2010.\n",
        "\n",
        "- Gujarat (2002, AHMEDABAD COMMR., 222): Ahmedabad Commissionerate in Gujarat had the highest number of murders in 2002.\n",
        "\n",
        "- Andhra Pradesh (2001, RANGA REDDY, 214): Ranga Reddy in Andhra Pradesh had the highest number of murders in 2001.\n",
        "\n",
        "- Tamil Nadu (2012, CHENNAI, 180): Chennai in Tamil Nadu had the highest number of murders in 2012.\n",
        "\n",
        "- Jammu & Kashmir (2001, BARAMULLA, 144): Baramulla in Jammu & Kashmir had the highest number of murders in 2001."
      ],
      "metadata": {
        "id": "zJjpYx5_jab9"
      }
    },
    {
      "cell_type": "markdown",
      "source": [
        "### **3.8.3 Store the above data (the result of 3.2) in DataFrame and analyze districts that appear 3 or more than 3 years and print the corresponding state/ut, district, murders, and year in descending order.**"
      ],
      "metadata": {
        "id": "Xcq--DqJkUDH"
      }
    },
    {
      "cell_type": "code",
      "source": [
        "# Creating empty list for State_UT, District, Year, and Murder\n",
        "\n",
        "State_UT = []\n",
        "District = []\n",
        "Year = []\n",
        "Murder = []\n",
        "\n",
        "\n",
        "# Fetching data in dataFrame\n",
        "\n",
        "results = cursor.execute('''SELECT  STATE_UT, Year,DISTRICT ,MAX(MURDER) As Highest_Murders FROM IPC_crime_committed\n",
        "                             WHERE NOT DISTRICT='TOTAL' AND NOT DISTRICT='DELHI UT TOTAL'\n",
        "                             GROUP BY STATE_UT, Year\n",
        "                             ORDER BY STATE_UT,Year,Highest_Murders desc''')\n",
        "\n",
        "for row in results:\n",
        "    State_UT.append(row[0])\n",
        "    Year.append(row[1])\n",
        "    District.append(row[2])\n",
        "    Murder.append(row[3])\n",
        "\n",
        "# Fetching in DF\n",
        "df_3_8_3 = pd.DataFrame({'State/UT' : State_UT, 'District' : District, 'Year': Year, 'Total_Murders' : Murder})\n",
        "\n",
        "df_3_8_3"
      ],
      "metadata": {
        "colab": {
          "base_uri": "https://localhost:8080/",
          "height": 423
        },
        "id": "AugyQZKXkA4M",
        "outputId": "51bf0e72-5b8b-4189-de41-84202946fd5a"
      },
      "execution_count": 47,
      "outputs": [
        {
          "output_type": "execute_result",
          "data": {
            "text/plain": [
              "          State/UT           District  Year  Total_Murders\n",
              "0    A & N ISLANDS            ANDAMAN  2001             13\n",
              "1    A & N ISLANDS            ANDAMAN  2002             14\n",
              "2    A & N ISLANDS            ANDAMAN  2003             16\n",
              "3    A & N ISLANDS            ANDAMAN  2004             13\n",
              "4    A & N ISLANDS            ANDAMAN  2005             14\n",
              "..             ...                ...   ...            ...\n",
              "415    WEST BENGAL  24 PARGANAS SOUTH  2008            239\n",
              "416    WEST BENGAL  24 PARGANAS NORTH  2009            229\n",
              "417    WEST BENGAL   PASCHIM MIDNAPUR  2010            268\n",
              "418    WEST BENGAL  24 PARGANAS SOUTH  2011            247\n",
              "419    WEST BENGAL  24 PARGANAS SOUTH  2012            224\n",
              "\n",
              "[420 rows x 4 columns]"
            ],
            "text/html": [
              "\n",
              "  <div id=\"df-0a597bc8-1d90-484e-b1d4-9ec2e1d86271\" class=\"colab-df-container\">\n",
              "    <div>\n",
              "<style scoped>\n",
              "    .dataframe tbody tr th:only-of-type {\n",
              "        vertical-align: middle;\n",
              "    }\n",
              "\n",
              "    .dataframe tbody tr th {\n",
              "        vertical-align: top;\n",
              "    }\n",
              "\n",
              "    .dataframe thead th {\n",
              "        text-align: right;\n",
              "    }\n",
              "</style>\n",
              "<table border=\"1\" class=\"dataframe\">\n",
              "  <thead>\n",
              "    <tr style=\"text-align: right;\">\n",
              "      <th></th>\n",
              "      <th>State/UT</th>\n",
              "      <th>District</th>\n",
              "      <th>Year</th>\n",
              "      <th>Total_Murders</th>\n",
              "    </tr>\n",
              "  </thead>\n",
              "  <tbody>\n",
              "    <tr>\n",
              "      <th>0</th>\n",
              "      <td>A &amp; N ISLANDS</td>\n",
              "      <td>ANDAMAN</td>\n",
              "      <td>2001</td>\n",
              "      <td>13</td>\n",
              "    </tr>\n",
              "    <tr>\n",
              "      <th>1</th>\n",
              "      <td>A &amp; N ISLANDS</td>\n",
              "      <td>ANDAMAN</td>\n",
              "      <td>2002</td>\n",
              "      <td>14</td>\n",
              "    </tr>\n",
              "    <tr>\n",
              "      <th>2</th>\n",
              "      <td>A &amp; N ISLANDS</td>\n",
              "      <td>ANDAMAN</td>\n",
              "      <td>2003</td>\n",
              "      <td>16</td>\n",
              "    </tr>\n",
              "    <tr>\n",
              "      <th>3</th>\n",
              "      <td>A &amp; N ISLANDS</td>\n",
              "      <td>ANDAMAN</td>\n",
              "      <td>2004</td>\n",
              "      <td>13</td>\n",
              "    </tr>\n",
              "    <tr>\n",
              "      <th>4</th>\n",
              "      <td>A &amp; N ISLANDS</td>\n",
              "      <td>ANDAMAN</td>\n",
              "      <td>2005</td>\n",
              "      <td>14</td>\n",
              "    </tr>\n",
              "    <tr>\n",
              "      <th>...</th>\n",
              "      <td>...</td>\n",
              "      <td>...</td>\n",
              "      <td>...</td>\n",
              "      <td>...</td>\n",
              "    </tr>\n",
              "    <tr>\n",
              "      <th>415</th>\n",
              "      <td>WEST BENGAL</td>\n",
              "      <td>24 PARGANAS SOUTH</td>\n",
              "      <td>2008</td>\n",
              "      <td>239</td>\n",
              "    </tr>\n",
              "    <tr>\n",
              "      <th>416</th>\n",
              "      <td>WEST BENGAL</td>\n",
              "      <td>24 PARGANAS NORTH</td>\n",
              "      <td>2009</td>\n",
              "      <td>229</td>\n",
              "    </tr>\n",
              "    <tr>\n",
              "      <th>417</th>\n",
              "      <td>WEST BENGAL</td>\n",
              "      <td>PASCHIM MIDNAPUR</td>\n",
              "      <td>2010</td>\n",
              "      <td>268</td>\n",
              "    </tr>\n",
              "    <tr>\n",
              "      <th>418</th>\n",
              "      <td>WEST BENGAL</td>\n",
              "      <td>24 PARGANAS SOUTH</td>\n",
              "      <td>2011</td>\n",
              "      <td>247</td>\n",
              "    </tr>\n",
              "    <tr>\n",
              "      <th>419</th>\n",
              "      <td>WEST BENGAL</td>\n",
              "      <td>24 PARGANAS SOUTH</td>\n",
              "      <td>2012</td>\n",
              "      <td>224</td>\n",
              "    </tr>\n",
              "  </tbody>\n",
              "</table>\n",
              "<p>420 rows × 4 columns</p>\n",
              "</div>\n",
              "    <div class=\"colab-df-buttons\">\n",
              "\n",
              "  <div class=\"colab-df-container\">\n",
              "    <button class=\"colab-df-convert\" onclick=\"convertToInteractive('df-0a597bc8-1d90-484e-b1d4-9ec2e1d86271')\"\n",
              "            title=\"Convert this dataframe to an interactive table.\"\n",
              "            style=\"display:none;\">\n",
              "\n",
              "  <svg xmlns=\"http://www.w3.org/2000/svg\" height=\"24px\" viewBox=\"0 -960 960 960\">\n",
              "    <path d=\"M120-120v-720h720v720H120Zm60-500h600v-160H180v160Zm220 220h160v-160H400v160Zm0 220h160v-160H400v160ZM180-400h160v-160H180v160Zm440 0h160v-160H620v160ZM180-180h160v-160H180v160Zm440 0h160v-160H620v160Z\"/>\n",
              "  </svg>\n",
              "    </button>\n",
              "\n",
              "  <style>\n",
              "    .colab-df-container {\n",
              "      display:flex;\n",
              "      gap: 12px;\n",
              "    }\n",
              "\n",
              "    .colab-df-convert {\n",
              "      background-color: #E8F0FE;\n",
              "      border: none;\n",
              "      border-radius: 50%;\n",
              "      cursor: pointer;\n",
              "      display: none;\n",
              "      fill: #1967D2;\n",
              "      height: 32px;\n",
              "      padding: 0 0 0 0;\n",
              "      width: 32px;\n",
              "    }\n",
              "\n",
              "    .colab-df-convert:hover {\n",
              "      background-color: #E2EBFA;\n",
              "      box-shadow: 0px 1px 2px rgba(60, 64, 67, 0.3), 0px 1px 3px 1px rgba(60, 64, 67, 0.15);\n",
              "      fill: #174EA6;\n",
              "    }\n",
              "\n",
              "    .colab-df-buttons div {\n",
              "      margin-bottom: 4px;\n",
              "    }\n",
              "\n",
              "    [theme=dark] .colab-df-convert {\n",
              "      background-color: #3B4455;\n",
              "      fill: #D2E3FC;\n",
              "    }\n",
              "\n",
              "    [theme=dark] .colab-df-convert:hover {\n",
              "      background-color: #434B5C;\n",
              "      box-shadow: 0px 1px 3px 1px rgba(0, 0, 0, 0.15);\n",
              "      filter: drop-shadow(0px 1px 2px rgba(0, 0, 0, 0.3));\n",
              "      fill: #FFFFFF;\n",
              "    }\n",
              "  </style>\n",
              "\n",
              "    <script>\n",
              "      const buttonEl =\n",
              "        document.querySelector('#df-0a597bc8-1d90-484e-b1d4-9ec2e1d86271 button.colab-df-convert');\n",
              "      buttonEl.style.display =\n",
              "        google.colab.kernel.accessAllowed ? 'block' : 'none';\n",
              "\n",
              "      async function convertToInteractive(key) {\n",
              "        const element = document.querySelector('#df-0a597bc8-1d90-484e-b1d4-9ec2e1d86271');\n",
              "        const dataTable =\n",
              "          await google.colab.kernel.invokeFunction('convertToInteractive',\n",
              "                                                    [key], {});\n",
              "        if (!dataTable) return;\n",
              "\n",
              "        const docLinkHtml = 'Like what you see? Visit the ' +\n",
              "          '<a target=\"_blank\" href=https://colab.research.google.com/notebooks/data_table.ipynb>data table notebook</a>'\n",
              "          + ' to learn more about interactive tables.';\n",
              "        element.innerHTML = '';\n",
              "        dataTable['output_type'] = 'display_data';\n",
              "        await google.colab.output.renderOutput(dataTable, element);\n",
              "        const docLink = document.createElement('div');\n",
              "        docLink.innerHTML = docLinkHtml;\n",
              "        element.appendChild(docLink);\n",
              "      }\n",
              "    </script>\n",
              "  </div>\n",
              "\n",
              "\n",
              "<div id=\"df-98d9dc11-eae6-4501-af6b-789943a2f185\">\n",
              "  <button class=\"colab-df-quickchart\" onclick=\"quickchart('df-98d9dc11-eae6-4501-af6b-789943a2f185')\"\n",
              "            title=\"Suggest charts\"\n",
              "            style=\"display:none;\">\n",
              "\n",
              "<svg xmlns=\"http://www.w3.org/2000/svg\" height=\"24px\"viewBox=\"0 0 24 24\"\n",
              "     width=\"24px\">\n",
              "    <g>\n",
              "        <path d=\"M19 3H5c-1.1 0-2 .9-2 2v14c0 1.1.9 2 2 2h14c1.1 0 2-.9 2-2V5c0-1.1-.9-2-2-2zM9 17H7v-7h2v7zm4 0h-2V7h2v10zm4 0h-2v-4h2v4z\"/>\n",
              "    </g>\n",
              "</svg>\n",
              "  </button>\n",
              "\n",
              "<style>\n",
              "  .colab-df-quickchart {\n",
              "      --bg-color: #E8F0FE;\n",
              "      --fill-color: #1967D2;\n",
              "      --hover-bg-color: #E2EBFA;\n",
              "      --hover-fill-color: #174EA6;\n",
              "      --disabled-fill-color: #AAA;\n",
              "      --disabled-bg-color: #DDD;\n",
              "  }\n",
              "\n",
              "  [theme=dark] .colab-df-quickchart {\n",
              "      --bg-color: #3B4455;\n",
              "      --fill-color: #D2E3FC;\n",
              "      --hover-bg-color: #434B5C;\n",
              "      --hover-fill-color: #FFFFFF;\n",
              "      --disabled-bg-color: #3B4455;\n",
              "      --disabled-fill-color: #666;\n",
              "  }\n",
              "\n",
              "  .colab-df-quickchart {\n",
              "    background-color: var(--bg-color);\n",
              "    border: none;\n",
              "    border-radius: 50%;\n",
              "    cursor: pointer;\n",
              "    display: none;\n",
              "    fill: var(--fill-color);\n",
              "    height: 32px;\n",
              "    padding: 0;\n",
              "    width: 32px;\n",
              "  }\n",
              "\n",
              "  .colab-df-quickchart:hover {\n",
              "    background-color: var(--hover-bg-color);\n",
              "    box-shadow: 0 1px 2px rgba(60, 64, 67, 0.3), 0 1px 3px 1px rgba(60, 64, 67, 0.15);\n",
              "    fill: var(--button-hover-fill-color);\n",
              "  }\n",
              "\n",
              "  .colab-df-quickchart-complete:disabled,\n",
              "  .colab-df-quickchart-complete:disabled:hover {\n",
              "    background-color: var(--disabled-bg-color);\n",
              "    fill: var(--disabled-fill-color);\n",
              "    box-shadow: none;\n",
              "  }\n",
              "\n",
              "  .colab-df-spinner {\n",
              "    border: 2px solid var(--fill-color);\n",
              "    border-color: transparent;\n",
              "    border-bottom-color: var(--fill-color);\n",
              "    animation:\n",
              "      spin 1s steps(1) infinite;\n",
              "  }\n",
              "\n",
              "  @keyframes spin {\n",
              "    0% {\n",
              "      border-color: transparent;\n",
              "      border-bottom-color: var(--fill-color);\n",
              "      border-left-color: var(--fill-color);\n",
              "    }\n",
              "    20% {\n",
              "      border-color: transparent;\n",
              "      border-left-color: var(--fill-color);\n",
              "      border-top-color: var(--fill-color);\n",
              "    }\n",
              "    30% {\n",
              "      border-color: transparent;\n",
              "      border-left-color: var(--fill-color);\n",
              "      border-top-color: var(--fill-color);\n",
              "      border-right-color: var(--fill-color);\n",
              "    }\n",
              "    40% {\n",
              "      border-color: transparent;\n",
              "      border-right-color: var(--fill-color);\n",
              "      border-top-color: var(--fill-color);\n",
              "    }\n",
              "    60% {\n",
              "      border-color: transparent;\n",
              "      border-right-color: var(--fill-color);\n",
              "    }\n",
              "    80% {\n",
              "      border-color: transparent;\n",
              "      border-right-color: var(--fill-color);\n",
              "      border-bottom-color: var(--fill-color);\n",
              "    }\n",
              "    90% {\n",
              "      border-color: transparent;\n",
              "      border-bottom-color: var(--fill-color);\n",
              "    }\n",
              "  }\n",
              "</style>\n",
              "\n",
              "  <script>\n",
              "    async function quickchart(key) {\n",
              "      const quickchartButtonEl =\n",
              "        document.querySelector('#' + key + ' button');\n",
              "      quickchartButtonEl.disabled = true;  // To prevent multiple clicks.\n",
              "      quickchartButtonEl.classList.add('colab-df-spinner');\n",
              "      try {\n",
              "        const charts = await google.colab.kernel.invokeFunction(\n",
              "            'suggestCharts', [key], {});\n",
              "      } catch (error) {\n",
              "        console.error('Error during call to suggestCharts:', error);\n",
              "      }\n",
              "      quickchartButtonEl.classList.remove('colab-df-spinner');\n",
              "      quickchartButtonEl.classList.add('colab-df-quickchart-complete');\n",
              "    }\n",
              "    (() => {\n",
              "      let quickchartButtonEl =\n",
              "        document.querySelector('#df-98d9dc11-eae6-4501-af6b-789943a2f185 button');\n",
              "      quickchartButtonEl.style.display =\n",
              "        google.colab.kernel.accessAllowed ? 'block' : 'none';\n",
              "    })();\n",
              "  </script>\n",
              "</div>\n",
              "\n",
              "  <div id=\"id_982d3210-350f-4d0c-b096-6abded46a111\">\n",
              "    <style>\n",
              "      .colab-df-generate {\n",
              "        background-color: #E8F0FE;\n",
              "        border: none;\n",
              "        border-radius: 50%;\n",
              "        cursor: pointer;\n",
              "        display: none;\n",
              "        fill: #1967D2;\n",
              "        height: 32px;\n",
              "        padding: 0 0 0 0;\n",
              "        width: 32px;\n",
              "      }\n",
              "\n",
              "      .colab-df-generate:hover {\n",
              "        background-color: #E2EBFA;\n",
              "        box-shadow: 0px 1px 2px rgba(60, 64, 67, 0.3), 0px 1px 3px 1px rgba(60, 64, 67, 0.15);\n",
              "        fill: #174EA6;\n",
              "      }\n",
              "\n",
              "      [theme=dark] .colab-df-generate {\n",
              "        background-color: #3B4455;\n",
              "        fill: #D2E3FC;\n",
              "      }\n",
              "\n",
              "      [theme=dark] .colab-df-generate:hover {\n",
              "        background-color: #434B5C;\n",
              "        box-shadow: 0px 1px 3px 1px rgba(0, 0, 0, 0.15);\n",
              "        filter: drop-shadow(0px 1px 2px rgba(0, 0, 0, 0.3));\n",
              "        fill: #FFFFFF;\n",
              "      }\n",
              "    </style>\n",
              "    <button class=\"colab-df-generate\" onclick=\"generateWithVariable('df_3_8_3')\"\n",
              "            title=\"Generate code using this dataframe.\"\n",
              "            style=\"display:none;\">\n",
              "\n",
              "  <svg xmlns=\"http://www.w3.org/2000/svg\" height=\"24px\"viewBox=\"0 0 24 24\"\n",
              "       width=\"24px\">\n",
              "    <path d=\"M7,19H8.4L18.45,9,17,7.55,7,17.6ZM5,21V16.75L18.45,3.32a2,2,0,0,1,2.83,0l1.4,1.43a1.91,1.91,0,0,1,.58,1.4,1.91,1.91,0,0,1-.58,1.4L9.25,21ZM18.45,9,17,7.55Zm-12,3A5.31,5.31,0,0,0,4.9,8.1,5.31,5.31,0,0,0,1,6.5,5.31,5.31,0,0,0,4.9,4.9,5.31,5.31,0,0,0,6.5,1,5.31,5.31,0,0,0,8.1,4.9,5.31,5.31,0,0,0,12,6.5,5.46,5.46,0,0,0,6.5,12Z\"/>\n",
              "  </svg>\n",
              "    </button>\n",
              "    <script>\n",
              "      (() => {\n",
              "      const buttonEl =\n",
              "        document.querySelector('#id_982d3210-350f-4d0c-b096-6abded46a111 button.colab-df-generate');\n",
              "      buttonEl.style.display =\n",
              "        google.colab.kernel.accessAllowed ? 'block' : 'none';\n",
              "\n",
              "      buttonEl.onclick = () => {\n",
              "        google.colab.notebook.generateWithVariable('df_3_8_3');\n",
              "      }\n",
              "      })();\n",
              "    </script>\n",
              "  </div>\n",
              "\n",
              "    </div>\n",
              "  </div>\n"
            ]
          },
          "metadata": {},
          "execution_count": 47
        }
      ]
    },
    {
      "cell_type": "code",
      "source": [
        "pd.set_option('display.max_rows', None)"
      ],
      "metadata": {
        "id": "PEzs0-GrntNE"
      },
      "execution_count": 48,
      "outputs": []
    },
    {
      "cell_type": "markdown",
      "source": [
        "**Analyze for districts that appear 3 or more than 3 years and print the corresponding state/ut, district, murders, and year in descending order.**"
      ],
      "metadata": {
        "id": "qwUxZJ09oPAV"
      }
    },
    {
      "cell_type": "code",
      "source": [
        "# First will count Number of year for which each district appears\n",
        "\n",
        "years_count = df_3_8_3.groupby(['State/UT', 'District']).Year.nunique().reset_index(name = 'YearsCount')\n",
        "\n",
        "\n",
        "# Filtering district which appering more than 3\n",
        "\n",
        "districts = years_count[years_count['YearsCount'] >= 3].reset_index(drop = True)\n",
        "\n",
        "# Creating New_DF\n",
        "new_df = pd.merge(districts, df_3_8_3, on = ['State/UT', 'District'], how = 'inner')\n",
        "\n",
        "print(new_df)"
      ],
      "metadata": {
        "colab": {
          "base_uri": "https://localhost:8080/",
          "height": 0
        },
        "id": "qR73QBFroT1_",
        "outputId": "9ac47f6d-d38e-414c-e716-fcf4efce7927"
      },
      "execution_count": 53,
      "outputs": [
        {
          "output_type": "stream",
          "name": "stdout",
          "text": [
            "              State/UT           District  YearsCount  Year  Total_Murders\n",
            "0        A & N ISLANDS            ANDAMAN          10  2001             13\n",
            "1        A & N ISLANDS            ANDAMAN          10  2002             14\n",
            "2        A & N ISLANDS            ANDAMAN          10  2003             16\n",
            "3        A & N ISLANDS            ANDAMAN          10  2004             13\n",
            "4        A & N ISLANDS            ANDAMAN          10  2005             14\n",
            "5        A & N ISLANDS            ANDAMAN          10  2006              3\n",
            "6        A & N ISLANDS            ANDAMAN          10  2008              8\n",
            "7        A & N ISLANDS            ANDAMAN          10  2009             15\n",
            "8        A & N ISLANDS            ANDAMAN          10  2010              8\n",
            "9        A & N ISLANDS            ANDAMAN          10  2011             14\n",
            "10      ANDHRA PRADESH          CYBERABAD           7  2006            193\n",
            "11      ANDHRA PRADESH          CYBERABAD           7  2007            186\n",
            "12      ANDHRA PRADESH          CYBERABAD           7  2008            197\n",
            "13      ANDHRA PRADESH          CYBERABAD           7  2009            186\n",
            "14      ANDHRA PRADESH          CYBERABAD           7  2010            187\n",
            "15      ANDHRA PRADESH          CYBERABAD           7  2011            213\n",
            "16      ANDHRA PRADESH          CYBERABAD           7  2012            198\n",
            "17   ARUNACHAL PRADESH              LOHIT           9  2001             16\n",
            "18   ARUNACHAL PRADESH              LOHIT           9  2002             14\n",
            "19   ARUNACHAL PRADESH              LOHIT           9  2003             16\n",
            "20   ARUNACHAL PRADESH              LOHIT           9  2004             10\n",
            "21   ARUNACHAL PRADESH              LOHIT           9  2005             14\n",
            "22   ARUNACHAL PRADESH              LOHIT           9  2007             17\n",
            "23   ARUNACHAL PRADESH              LOHIT           9  2008             11\n",
            "24   ARUNACHAL PRADESH              LOHIT           9  2011             12\n",
            "25   ARUNACHAL PRADESH              LOHIT           9  2012             11\n",
            "26               ASSAM          DIBRUGARH           5  2001            110\n",
            "27               ASSAM          DIBRUGARH           5  2003            107\n",
            "28               ASSAM          DIBRUGARH           5  2004            125\n",
            "29               ASSAM          DIBRUGARH           5  2005            113\n",
            "30               ASSAM          DIBRUGARH           5  2006            104\n",
            "31               ASSAM           TINSUKIA           5  2002            115\n",
            "32               ASSAM           TINSUKIA           5  2007            143\n",
            "33               ASSAM           TINSUKIA           5  2008            114\n",
            "34               ASSAM           TINSUKIA           5  2010             96\n",
            "35               ASSAM           TINSUKIA           5  2011             98\n",
            "36               BIHAR              PATNA          12  2001            434\n",
            "37               BIHAR              PATNA          12  2002            472\n",
            "38               BIHAR              PATNA          12  2003            484\n",
            "39               BIHAR              PATNA          12  2004            542\n",
            "40               BIHAR              PATNA          12  2005            436\n",
            "41               BIHAR              PATNA          12  2006            338\n",
            "42               BIHAR              PATNA          12  2007            317\n",
            "43               BIHAR              PATNA          12  2008            341\n",
            "44               BIHAR              PATNA          12  2009            314\n",
            "45               BIHAR              PATNA          12  2010            304\n",
            "46               BIHAR              PATNA          12  2011            248\n",
            "47               BIHAR              PATNA          12  2012            356\n",
            "48          CHANDIGARH         CHANDIGARH          12  2001             15\n",
            "49          CHANDIGARH         CHANDIGARH          12  2002             31\n",
            "50          CHANDIGARH         CHANDIGARH          12  2003             21\n",
            "51          CHANDIGARH         CHANDIGARH          12  2004             22\n",
            "52          CHANDIGARH         CHANDIGARH          12  2005             18\n",
            "53          CHANDIGARH         CHANDIGARH          12  2006             12\n",
            "54          CHANDIGARH         CHANDIGARH          12  2007             19\n",
            "55          CHANDIGARH         CHANDIGARH          12  2008             17\n",
            "56          CHANDIGARH         CHANDIGARH          12  2009             22\n",
            "57          CHANDIGARH         CHANDIGARH          12  2010             21\n",
            "58          CHANDIGARH         CHANDIGARH          12  2011             24\n",
            "59          CHANDIGARH         CHANDIGARH          12  2012             21\n",
            "60        CHHATTISGARH           BILASPUR           6  2003             95\n",
            "61        CHHATTISGARH           BILASPUR           6  2005             94\n",
            "62        CHHATTISGARH           BILASPUR           6  2008            112\n",
            "63        CHHATTISGARH           BILASPUR           6  2010            106\n",
            "64        CHHATTISGARH           BILASPUR           6  2011            112\n",
            "65        CHHATTISGARH           BILASPUR           6  2012             74\n",
            "66        CHHATTISGARH            SARGUJA           3  2001            105\n",
            "67        CHHATTISGARH            SARGUJA           3  2002            101\n",
            "68        CHHATTISGARH            SARGUJA           3  2004            111\n",
            "69        D & N HAVELI     D and N HAVELI          12  2001              3\n",
            "70        D & N HAVELI     D and N HAVELI          12  2002             11\n",
            "71        D & N HAVELI     D and N HAVELI          12  2003             11\n",
            "72        D & N HAVELI     D and N HAVELI          12  2004             11\n",
            "73        D & N HAVELI     D and N HAVELI          12  2005              7\n",
            "74        D & N HAVELI     D and N HAVELI          12  2006              9\n",
            "75        D & N HAVELI     D and N HAVELI          12  2007             10\n",
            "76        D & N HAVELI     D and N HAVELI          12  2008              9\n",
            "77        D & N HAVELI     D and N HAVELI          12  2009             10\n",
            "78        D & N HAVELI     D and N HAVELI          12  2010              6\n",
            "79        D & N HAVELI     D and N HAVELI          12  2011             14\n",
            "80        D & N HAVELI     D and N HAVELI          12  2012              7\n",
            "81         DAMAN & DIU              DAMAN          12  2001              6\n",
            "82         DAMAN & DIU              DAMAN          12  2002              7\n",
            "83         DAMAN & DIU              DAMAN          12  2003              6\n",
            "84         DAMAN & DIU              DAMAN          12  2004              2\n",
            "85         DAMAN & DIU              DAMAN          12  2005              4\n",
            "86         DAMAN & DIU              DAMAN          12  2006              6\n",
            "87         DAMAN & DIU              DAMAN          12  2007             12\n",
            "88         DAMAN & DIU              DAMAN          12  2008              2\n",
            "89         DAMAN & DIU              DAMAN          12  2009              5\n",
            "90         DAMAN & DIU              DAMAN          12  2010              5\n",
            "91         DAMAN & DIU              DAMAN          12  2011              6\n",
            "92         DAMAN & DIU              DAMAN          12  2012              3\n",
            "93            DELHI UT         NORTH WEST           4  2001            134\n",
            "94            DELHI UT         NORTH WEST           4  2002            135\n",
            "95            DELHI UT         NORTH WEST           4  2003            106\n",
            "96            DELHI UT         NORTH WEST           4  2004            129\n",
            "97            DELHI UT              OUTER           4  2007            102\n",
            "98            DELHI UT              OUTER           4  2010             98\n",
            "99            DELHI UT              OUTER           4  2011             84\n",
            "100           DELHI UT              OUTER           4  2012             96\n",
            "101                GOA          NORTH GOA          10  2001             22\n",
            "102                GOA          NORTH GOA          10  2002             18\n",
            "103                GOA          NORTH GOA          10  2003             22\n",
            "104                GOA          NORTH GOA          10  2004             23\n",
            "105                GOA          NORTH GOA          10  2006             24\n",
            "106                GOA          NORTH GOA          10  2008             26\n",
            "107                GOA          NORTH GOA          10  2009             33\n",
            "108                GOA          NORTH GOA          10  2010             25\n",
            "109                GOA          NORTH GOA          10  2011             33\n",
            "110                GOA          NORTH GOA          10  2012             28\n",
            "111            GUJARAT   AHMEDABAD COMMR.           3  2002            222\n",
            "112            GUJARAT   AHMEDABAD COMMR.           3  2003             90\n",
            "113            GUJARAT   AHMEDABAD COMMR.           3  2004             92\n",
            "114            GUJARAT       SURAT COMMR.           9  2001             98\n",
            "115            GUJARAT       SURAT COMMR.           9  2005             86\n",
            "116            GUJARAT       SURAT COMMR.           9  2006            103\n",
            "117            GUJARAT       SURAT COMMR.           9  2007            108\n",
            "118            GUJARAT       SURAT COMMR.           9  2008             97\n",
            "119            GUJARAT       SURAT COMMR.           9  2009            101\n",
            "120            GUJARAT       SURAT COMMR.           9  2010             87\n",
            "121            GUJARAT       SURAT COMMR.           9  2011            100\n",
            "122            GUJARAT       SURAT COMMR.           9  2012             98\n",
            "123            HARYANA            GURGAON           5  2003             62\n",
            "124            HARYANA            GURGAON           5  2006             93\n",
            "125            HARYANA            GURGAON           5  2007             93\n",
            "126            HARYANA            GURGAON           5  2009             84\n",
            "127            HARYANA            GURGAON           5  2011             89\n",
            "128            HARYANA            SONIPAT           4  2001             73\n",
            "129            HARYANA            SONIPAT           4  2002             82\n",
            "130            HARYANA            SONIPAT           4  2008             84\n",
            "131            HARYANA            SONIPAT           4  2012             86\n",
            "132   HIMACHAL PRADESH             KANGRA          11  2001             24\n",
            "133   HIMACHAL PRADESH             KANGRA          11  2002             28\n",
            "134   HIMACHAL PRADESH             KANGRA          11  2003             38\n",
            "135   HIMACHAL PRADESH             KANGRA          11  2005             21\n",
            "136   HIMACHAL PRADESH             KANGRA          11  2006             19\n",
            "137   HIMACHAL PRADESH             KANGRA          11  2007             22\n",
            "138   HIMACHAL PRADESH             KANGRA          11  2008             19\n",
            "139   HIMACHAL PRADESH             KANGRA          11  2009             29\n",
            "140   HIMACHAL PRADESH             KANGRA          11  2010             27\n",
            "141   HIMACHAL PRADESH             KANGRA          11  2011             21\n",
            "142   HIMACHAL PRADESH             KANGRA          11  2012             24\n",
            "143    JAMMU & KASHMIR          BARAMULLA           5  2001            144\n",
            "144    JAMMU & KASHMIR          BARAMULLA           5  2002            121\n",
            "145    JAMMU & KASHMIR          BARAMULLA           5  2004             86\n",
            "146    JAMMU & KASHMIR          BARAMULLA           5  2005             78\n",
            "147    JAMMU & KASHMIR          BARAMULLA           5  2007             47\n",
            "148    JAMMU & KASHMIR              JAMMU           3  2008             31\n",
            "149    JAMMU & KASHMIR              JAMMU           3  2011             18\n",
            "150    JAMMU & KASHMIR              JAMMU           3  2012             13\n",
            "151          JHARKHAND             RANCHI          10  2001            243\n",
            "152          JHARKHAND             RANCHI          10  2002            270\n",
            "153          JHARKHAND             RANCHI          10  2003            250\n",
            "154          JHARKHAND             RANCHI          10  2004            270\n",
            "155          JHARKHAND             RANCHI          10  2005            239\n",
            "156          JHARKHAND             RANCHI          10  2006            253\n",
            "157          JHARKHAND             RANCHI          10  2007            203\n",
            "158          JHARKHAND             RANCHI          10  2008            209\n",
            "159          JHARKHAND             RANCHI          10  2009            202\n",
            "160          JHARKHAND             RANCHI          10  2010            183\n",
            "161          KARNATAKA   BANGALORE COMMR.          12  2001            221\n",
            "162          KARNATAKA   BANGALORE COMMR.          12  2002            201\n",
            "163          KARNATAKA   BANGALORE COMMR.          12  2003            216\n",
            "164          KARNATAKA   BANGALORE COMMR.          12  2004            214\n",
            "165          KARNATAKA   BANGALORE COMMR.          12  2005            242\n",
            "166          KARNATAKA   BANGALORE COMMR.          12  2006            218\n",
            "167          KARNATAKA   BANGALORE COMMR.          12  2007            246\n",
            "168          KARNATAKA   BANGALORE COMMR.          12  2008            253\n",
            "169          KARNATAKA   BANGALORE COMMR.          12  2009            256\n",
            "170          KARNATAKA   BANGALORE COMMR.          12  2010            266\n",
            "171          KARNATAKA   BANGALORE COMMR.          12  2011            232\n",
            "172          KARNATAKA   BANGALORE COMMR.          12  2012            266\n",
            "173             KERALA           PALAKKAD           5  2003             52\n",
            "174             KERALA           PALAKKAD           5  2006             44\n",
            "175             KERALA           PALAKKAD           5  2009             36\n",
            "176             KERALA           PALAKKAD           5  2010             42\n",
            "177             KERALA           PALAKKAD           5  2011             41\n",
            "178        LAKSHADWEEP        LAKSHADWEEP          12  2001              1\n",
            "179        LAKSHADWEEP        LAKSHADWEEP          12  2002              0\n",
            "180        LAKSHADWEEP        LAKSHADWEEP          12  2003              0\n",
            "181        LAKSHADWEEP        LAKSHADWEEP          12  2004              0\n",
            "182        LAKSHADWEEP        LAKSHADWEEP          12  2005              1\n",
            "183        LAKSHADWEEP        LAKSHADWEEP          12  2006              0\n",
            "184        LAKSHADWEEP        LAKSHADWEEP          12  2007              0\n",
            "185        LAKSHADWEEP        LAKSHADWEEP          12  2008              1\n",
            "186        LAKSHADWEEP        LAKSHADWEEP          12  2009              0\n",
            "187        LAKSHADWEEP        LAKSHADWEEP          12  2010              0\n",
            "188        LAKSHADWEEP        LAKSHADWEEP          12  2011              0\n",
            "189        LAKSHADWEEP        LAKSHADWEEP          12  2012              0\n",
            "190     MADHYA PRADESH             INDORE           6  2007            111\n",
            "191     MADHYA PRADESH             INDORE           6  2008            125\n",
            "192     MADHYA PRADESH             INDORE           6  2009            132\n",
            "193     MADHYA PRADESH             INDORE           6  2010            108\n",
            "194     MADHYA PRADESH             INDORE           6  2011            135\n",
            "195     MADHYA PRADESH             INDORE           6  2012            123\n",
            "196     MADHYA PRADESH             JHABUA           6  2001            124\n",
            "197     MADHYA PRADESH             JHABUA           6  2002            133\n",
            "198     MADHYA PRADESH             JHABUA           6  2003            119\n",
            "199     MADHYA PRADESH             JHABUA           6  2004            139\n",
            "200     MADHYA PRADESH             JHABUA           6  2005            129\n",
            "201     MADHYA PRADESH             JHABUA           6  2006            117\n",
            "202        MAHARASHTRA             MUMBAI           5  2001            295\n",
            "203        MAHARASHTRA             MUMBAI           5  2002            252\n",
            "204        MAHARASHTRA             MUMBAI           5  2003            242\n",
            "205        MAHARASHTRA             MUMBAI           5  2004            253\n",
            "206        MAHARASHTRA             MUMBAI           5  2005            212\n",
            "207        MAHARASHTRA      MUMBAI COMMR.           7  2006            239\n",
            "208        MAHARASHTRA      MUMBAI COMMR.           7  2007            230\n",
            "209        MAHARASHTRA      MUMBAI COMMR.           7  2008            210\n",
            "210        MAHARASHTRA      MUMBAI COMMR.           7  2009            217\n",
            "211        MAHARASHTRA      MUMBAI COMMR.           7  2010            228\n",
            "212        MAHARASHTRA      MUMBAI COMMR.           7  2011            203\n",
            "213        MAHARASHTRA      MUMBAI COMMR.           7  2012            215\n",
            "214            MANIPUR        IMPHAL WEST           3  2007             61\n",
            "215            MANIPUR        IMPHAL WEST           3  2009             32\n",
            "216            MANIPUR        IMPHAL WEST           3  2011             24\n",
            "217            MANIPUR       IMPHAL(WEST)           3  2001             44\n",
            "218            MANIPUR       IMPHAL(WEST)           3  2002             32\n",
            "219            MANIPUR       IMPHAL(WEST)           3  2003             28\n",
            "220            MANIPUR            THOUBAL           3  2004             38\n",
            "221            MANIPUR            THOUBAL           3  2008             46\n",
            "222            MANIPUR            THOUBAL           3  2012             16\n",
            "223          MEGHALAYA      JAINTIA HILLS           9  2003             52\n",
            "224          MEGHALAYA      JAINTIA HILLS           9  2005             43\n",
            "225          MEGHALAYA      JAINTIA HILLS           9  2006             51\n",
            "226          MEGHALAYA      JAINTIA HILLS           9  2007             43\n",
            "227          MEGHALAYA      JAINTIA HILLS           9  2008             38\n",
            "228          MEGHALAYA      JAINTIA HILLS           9  2009             40\n",
            "229          MEGHALAYA      JAINTIA HILLS           9  2010             48\n",
            "230          MEGHALAYA      JAINTIA HILLS           9  2011             52\n",
            "231          MEGHALAYA      JAINTIA HILLS           9  2012             44\n",
            "232          MEGHALAYA   KHASI HILLS EAST           3  2001             50\n",
            "233          MEGHALAYA   KHASI HILLS EAST           3  2002             48\n",
            "234          MEGHALAYA   KHASI HILLS EAST           3  2004             33\n",
            "235            MIZORAM             AIZAWL          11  2001             12\n",
            "236            MIZORAM             AIZAWL          11  2003             14\n",
            "237            MIZORAM             AIZAWL          11  2004             10\n",
            "238            MIZORAM             AIZAWL          11  2005              4\n",
            "239            MIZORAM             AIZAWL          11  2006              7\n",
            "240            MIZORAM             AIZAWL          11  2007             18\n",
            "241            MIZORAM             AIZAWL          11  2008             12\n",
            "242            MIZORAM             AIZAWL          11  2009             14\n",
            "243            MIZORAM             AIZAWL          11  2010             23\n",
            "244            MIZORAM             AIZAWL          11  2011             10\n",
            "245            MIZORAM             AIZAWL          11  2012             12\n",
            "246           NAGALAND            DIMAPUR          10  2001             36\n",
            "247           NAGALAND            DIMAPUR          10  2002             32\n",
            "248           NAGALAND            DIMAPUR          10  2004             22\n",
            "249           NAGALAND            DIMAPUR          10  2005             23\n",
            "250           NAGALAND            DIMAPUR          10  2007             30\n",
            "251           NAGALAND            DIMAPUR          10  2008             64\n",
            "252           NAGALAND            DIMAPUR          10  2009             15\n",
            "253           NAGALAND            DIMAPUR          10  2010             20\n",
            "254           NAGALAND            DIMAPUR          10  2011             15\n",
            "255           NAGALAND            DIMAPUR          10  2012             26\n",
            "256             ODISHA           KEONJHAR           4  2006             84\n",
            "257             ODISHA           KEONJHAR           4  2008             91\n",
            "258             ODISHA           KEONJHAR           4  2009            109\n",
            "259             ODISHA           KEONJHAR           4  2012             97\n",
            "260             ODISHA         MAYURBHANJ           5  2001             74\n",
            "261             ODISHA         MAYURBHANJ           5  2004             77\n",
            "262             ODISHA         MAYURBHANJ           5  2007             98\n",
            "263             ODISHA         MAYURBHANJ           5  2010             88\n",
            "264             ODISHA         MAYURBHANJ           5  2011            103\n",
            "265             ODISHA         SUNDARGARH           3  2002             87\n",
            "266             ODISHA         SUNDARGARH           3  2003             83\n",
            "267             ODISHA         SUNDARGARH           3  2005             82\n",
            "268         PUDUCHERRY        PONDICHERRY           7  2001             25\n",
            "269         PUDUCHERRY        PONDICHERRY           7  2002             29\n",
            "270         PUDUCHERRY        PONDICHERRY           7  2003             29\n",
            "271         PUDUCHERRY        PONDICHERRY           7  2004             25\n",
            "272         PUDUCHERRY        PONDICHERRY           7  2005             19\n",
            "273         PUDUCHERRY        PONDICHERRY           7  2006             28\n",
            "274         PUDUCHERRY        PONDICHERRY           7  2007             30\n",
            "275         PUDUCHERRY         PUDUCHERRY           5  2008             30\n",
            "276         PUDUCHERRY         PUDUCHERRY           5  2009             31\n",
            "277         PUDUCHERRY         PUDUCHERRY           5  2010             29\n",
            "278         PUDUCHERRY         PUDUCHERRY           5  2011             32\n",
            "279         PUDUCHERRY         PUDUCHERRY           5  2012             24\n",
            "280             PUNJAB        CP LUDHIANA           3  2010             90\n",
            "281             PUNJAB        CP LUDHIANA           3  2011             76\n",
            "282             PUNJAB        CP LUDHIANA           3  2012             79\n",
            "283             PUNJAB          JALANDHAR           5  2001             74\n",
            "284             PUNJAB          JALANDHAR           5  2004             74\n",
            "285             PUNJAB          JALANDHAR           5  2005             63\n",
            "286             PUNJAB          JALANDHAR           5  2006             80\n",
            "287             PUNJAB          JALANDHAR           5  2007             63\n",
            "288             PUNJAB           LUDHIANA           4  2002             68\n",
            "289             PUNJAB           LUDHIANA           4  2003             64\n",
            "290             PUNJAB           LUDHIANA           4  2008             73\n",
            "291             PUNJAB           LUDHIANA           4  2009             68\n",
            "292          RAJASTHAN              ALWAR           6  2006             75\n",
            "293          RAJASTHAN              ALWAR           6  2007             89\n",
            "294          RAJASTHAN              ALWAR           6  2008            101\n",
            "295          RAJASTHAN              ALWAR           6  2009            103\n",
            "296          RAJASTHAN              ALWAR           6  2011            104\n",
            "297          RAJASTHAN              ALWAR           6  2012            100\n",
            "298          RAJASTHAN          BHARATPUR           4  2002             87\n",
            "299          RAJASTHAN          BHARATPUR           4  2004             92\n",
            "300          RAJASTHAN          BHARATPUR           4  2005             91\n",
            "301          RAJASTHAN          BHARATPUR           4  2010             83\n",
            "302             SIKKIM               EAST           9  2001             13\n",
            "303             SIKKIM               EAST           9  2002              6\n",
            "304             SIKKIM               EAST           9  2003              7\n",
            "305             SIKKIM               EAST           9  2005              5\n",
            "306             SIKKIM               EAST           9  2006             10\n",
            "307             SIKKIM               EAST           9  2008              5\n",
            "308             SIKKIM               EAST           9  2009              7\n",
            "309             SIKKIM               EAST           9  2011              8\n",
            "310             SIKKIM               EAST           9  2012              3\n",
            "311         TAMIL NADU            CHENNAI           9  2001             91\n",
            "312         TAMIL NADU            CHENNAI           9  2005            123\n",
            "313         TAMIL NADU            CHENNAI           9  2006            131\n",
            "314         TAMIL NADU            CHENNAI           9  2007            145\n",
            "315         TAMIL NADU            CHENNAI           9  2008            100\n",
            "316         TAMIL NADU            CHENNAI           9  2009             96\n",
            "317         TAMIL NADU            CHENNAI           9  2010            103\n",
            "318         TAMIL NADU            CHENNAI           9  2011            168\n",
            "319         TAMIL NADU            CHENNAI           9  2012            180\n",
            "320            TRIPURA               WEST          12  2001            125\n",
            "321            TRIPURA               WEST          12  2002            113\n",
            "322            TRIPURA               WEST          12  2003            136\n",
            "323            TRIPURA               WEST          12  2004             97\n",
            "324            TRIPURA               WEST          12  2005             61\n",
            "325            TRIPURA               WEST          12  2006             74\n",
            "326            TRIPURA               WEST          12  2007             65\n",
            "327            TRIPURA               WEST          12  2008             72\n",
            "328            TRIPURA               WEST          12  2009             61\n",
            "329            TRIPURA               WEST          12  2010             83\n",
            "330            TRIPURA               WEST          12  2011             71\n",
            "331            TRIPURA               WEST          12  2012             26\n",
            "332      UTTAR PRADESH      MUZAFFARNAGAR           5  2001            324\n",
            "333      UTTAR PRADESH      MUZAFFARNAGAR           5  2002            287\n",
            "334      UTTAR PRADESH      MUZAFFARNAGAR           5  2004            253\n",
            "335      UTTAR PRADESH      MUZAFFARNAGAR           5  2006            230\n",
            "336      UTTAR PRADESH      MUZAFFARNAGAR           5  2007            213\n",
            "337        UTTARAKHAND           HARIDWAR          10  2001             94\n",
            "338        UTTARAKHAND           HARIDWAR          10  2002             75\n",
            "339        UTTARAKHAND           HARIDWAR          10  2003             75\n",
            "340        UTTARAKHAND           HARIDWAR          10  2004             56\n",
            "341        UTTARAKHAND           HARIDWAR          10  2005             65\n",
            "342        UTTARAKHAND           HARIDWAR          10  2007             55\n",
            "343        UTTARAKHAND           HARIDWAR          10  2008             74\n",
            "344        UTTARAKHAND           HARIDWAR          10  2009             67\n",
            "345        UTTARAKHAND           HARIDWAR          10  2011             56\n",
            "346        UTTARAKHAND           HARIDWAR          10  2012             74\n",
            "347        WEST BENGAL  24 PARGANAS NORTH           8  2001            202\n",
            "348        WEST BENGAL  24 PARGANAS NORTH           8  2002            204\n",
            "349        WEST BENGAL  24 PARGANAS NORTH           8  2003            193\n",
            "350        WEST BENGAL  24 PARGANAS NORTH           8  2004            177\n",
            "351        WEST BENGAL  24 PARGANAS NORTH           8  2005            168\n",
            "352        WEST BENGAL  24 PARGANAS NORTH           8  2006            154\n",
            "353        WEST BENGAL  24 PARGANAS NORTH           8  2007            194\n",
            "354        WEST BENGAL  24 PARGANAS NORTH           8  2009            229\n",
            "355        WEST BENGAL  24 PARGANAS SOUTH           3  2008            239\n",
            "356        WEST BENGAL  24 PARGANAS SOUTH           3  2011            247\n",
            "357        WEST BENGAL  24 PARGANAS SOUTH           3  2012            224\n"
          ]
        }
      ]
    },
    {
      "cell_type": "markdown",
      "source": [
        "### **3.8.4 Use appropriate graphs to show your data (the result of 3.8.3).**"
      ],
      "metadata": {
        "id": "_SLRzoKCpXkW"
      }
    },
    {
      "cell_type": "markdown",
      "source": [
        "### Chart 1\n",
        "\n",
        "## Total Murder by District"
      ],
      "metadata": {
        "id": "fMXjEMq7qVJi"
      }
    },
    {
      "cell_type": "code",
      "source": [
        "import matplotlib.pyplot as plt\n",
        "import seaborn as sns"
      ],
      "metadata": {
        "id": "IYbl4Hjmqcnf"
      },
      "execution_count": 56,
      "outputs": []
    },
    {
      "cell_type": "code",
      "source": [
        "plt.figure(figsize=(15, 6))\n",
        "sns.lineplot(x='Year', y='Total_Murders', data=new_df, estimator='sum', ci=None)\n",
        "plt.title('Total Number of Murders Over the Years')\n",
        "plt.xlabel('Year')\n",
        "plt.ylabel('Total Murders')\n",
        "plt.show()"
      ],
      "metadata": {
        "colab": {
          "base_uri": "https://localhost:8080/",
          "height": 651
        },
        "id": "lcNURUtvooL2",
        "outputId": "6640dc33-43ea-4bc4-9f9d-f779d3cc070a"
      },
      "execution_count": 57,
      "outputs": [
        {
          "output_type": "stream",
          "name": "stderr",
          "text": [
            "<ipython-input-57-2a854d3f3526>:2: FutureWarning: \n",
            "\n",
            "The `ci` parameter is deprecated. Use `errorbar=None` for the same effect.\n",
            "\n",
            "  sns.lineplot(x='Year', y='Total_Murders', data=new_df, estimator='sum', ci=None)\n"
          ]
        },
        {
          "output_type": "display_data",
          "data": {
            "text/plain": [
              "<Figure size 1500x600 with 1 Axes>"
            ],
            "image/png": "[encoded data removed]"
          },
          "metadata": {}
        }
      ]
    },
    {
      "cell_type": "markdown",
      "source": [
        "**Insighst from above chart** The line plot illustrates the timeline of total murder counts across different years.\n",
        "- The peak in 2002 stands out, recording the highest count of 3295 murders, closely followed by 2001 with 3245.\n",
        "- Subsequent years, including 2004 (2996), 2007 (2970), and 2008 (2811), also exhibit notable murder counts.\n",
        "- Conversely, 2010 marks the year with the lowest total murders, recording 2364 incidents.\n",
        "- The early 2000s show a trend of elevated murder counts, indicating periods of heightened criminal incidents."
      ],
      "metadata": {
        "id": "vn1OYokorsU3"
      }
    },
    {
      "cell_type": "markdown",
      "source": [
        "### Chart 2\n",
        "\n",
        "## Top 10 districts with the highest average number of murders"
      ],
      "metadata": {
        "id": "zg-uPv8nsFHI"
      }
    },
    {
      "cell_type": "code",
      "source": [
        "top_districts = new_df.groupby('District')['Total_Murders'].mean().sort_values(ascending=False).head(10)\n",
        "\n",
        "print(top_districts)\n",
        "\n",
        "plt.figure(figsize=(15, 6))\n",
        "sns.barplot(x=top_districts.index, y=top_districts.values, palette='viridis')\n",
        "plt.title('Top 10 Districts with Highest Average Number of Murders')\n",
        "plt.xlabel('District')\n",
        "plt.ylabel('Average Murders')\n",
        "plt.show()"
      ],
      "metadata": {
        "colab": {
          "base_uri": "https://localhost:8080/",
          "height": 859
        },
        "id": "XLXQzw4BsJn2",
        "outputId": "57d1cd59-fe37-4bff-e6b0-6e551e230d0d"
      },
      "execution_count": 58,
      "outputs": [
        {
          "output_type": "stream",
          "name": "stdout",
          "text": [
            "District\n",
            "PATNA                382.166667\n",
            "MUZAFFARNAGAR        261.400000\n",
            "MUMBAI               250.800000\n",
            "24 PARGANAS SOUTH    236.666667\n",
            "BANGALORE COMMR.     235.916667\n",
            "RANCHI               232.200000\n",
            "MUMBAI COMMR.        220.285714\n",
            "CYBERABAD            194.285714\n",
            "24 PARGANAS NORTH    190.125000\n",
            "AHMEDABAD COMMR.     134.666667\n",
            "Name: Total_Murders, dtype: float64\n"
          ]
        },
        {
          "output_type": "stream",
          "name": "stderr",
          "text": [
            "<ipython-input-58-2500f98a8934>:6: FutureWarning: \n",
            "\n",
            "Passing `palette` without assigning `hue` is deprecated and will be removed in v0.14.0. Assign the `x` variable to `hue` and set `legend=False` for the same effect.\n",
            "\n",
            "  sns.barplot(x=top_districts.index, y=top_districts.values, palette='viridis')\n"
          ]
        },
        {
          "output_type": "display_data",
          "data": {
            "text/plain": [
              "<Figure size 1500x600 with 1 Axes>"
            ],
            "image/png": "[encoded data removed]"
          },
          "metadata": {}
        }
      ]
    },
    {
      "cell_type": "markdown",
      "source": [
        "**Insights from above chart,**\n",
        "\n",
        "* District-wise Averages:\n",
        "    \n",
        "    **Patna:** Leads with an average of approximately 382.17 murders per year.\n",
        "    \n",
        "    **Muzaffarnagar:** Follows closely with an average of around 261.4 murders annually.\n",
        "    \n",
        "    **Mumbai:** Records an average of approximately 250.8 murders per year.\n",
        "    \n",
        "    **24 Parganas South:** Has an average of about 236.67 murders per year.\n",
        "    \n",
        "    **Bangalore Commr.:** Reports an average of around 235.92 murders annually.\n",
        "    \n",
        "    **Ranchi:** Shows an average of about 232.2 murders per year.\n",
        "    \n",
        "    **Mumbai Commr.:** Records an average of approximately 220.29 murders per year.\n",
        "    \n",
        "    **Cyberabad:** Presents an average of around 194.29 murders annually.\n",
        "    \n",
        "    **24 Parganas North:** Indicates an average of about 190.13 murders per year.\n",
        "    \n",
        "    **Ahmedabad Commr.:** Shows an average of approximately 134.67 murders per year.\n",
        "\n",
        "* **Patna stands out as the district with the highest average murders, followed by Muzaffarnagar and Mumbai.**\n",
        "\n",
        "The chart highlights districts that consistently experience higher average murder rates, suggesting potential areas of concern for law enforcement and policymakers."
      ],
      "metadata": {
        "id": "HVqbShvks7FB"
      }
    },
    {
      "cell_type": "markdown",
      "source": [
        "### Chart 3\n",
        "\n",
        "## Year wise MurderCases vs State_UT"
      ],
      "metadata": {
        "id": "o3WpOxheuUiO"
      }
    },
    {
      "cell_type": "code",
      "source": [
        "plt.figure(figsize = (15,6))\n",
        "sns.scatterplot(x = new_df['State/UT'], y = new_df['Total_Murders'], hue = new_df['Year'])\n",
        "plt.title('Total Murders vs State_UT by Years')\n",
        "plt.xticks(rotation = 90)\n",
        "plt.show()"
      ],
      "metadata": {
        "colab": {
          "base_uri": "https://localhost:8080/",
          "height": 706
        },
        "id": "Aaq5iyYZtX5a",
        "outputId": "3fbf5518-a19f-4340-be13-5a286688c24f"
      },
      "execution_count": 64,
      "outputs": [
        {
          "output_type": "display_data",
          "data": {
            "text/plain": [
              "<Figure size 1500x600 with 1 Axes>"
            ],
            "image/png": "[encoded data removed]"
          },
          "metadata": {}
        }
      ]
    },
    {
      "cell_type": "markdown",
      "source": [
        "**Insighsts from above chart,**\n",
        "- States like Uttar Pradesh and Bihar tend to have higher murder counts compared to others.Uttar Pradesh exhibits fluctuating murder counts, suggesting variations in crime rates over different years.\n",
        "- Maharashtra displays varying murder counts over the specified years, indicating changes in crime rates within the state.\n",
        "-Jharkhand experiences fluctuations in murder counts, suggesting a dynamic situation in terms of crime rates.Karnataka shows varying murder counts across the years, reflecting changes in crime dynamics within the state.\n",
        "\n",
        "- Over the years, there are fluctuations in murder counts for various states, indicating that some areas may experience changes in crime rates."
      ],
      "metadata": {
        "id": "iI7dPjaSvbN3"
      }
    }
  ]
}